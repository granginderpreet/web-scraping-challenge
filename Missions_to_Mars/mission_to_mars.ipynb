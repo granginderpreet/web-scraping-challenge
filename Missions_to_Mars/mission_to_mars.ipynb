{
 "cells": [
  {
   "cell_type": "code",
   "execution_count": 18,
   "metadata": {},
   "outputs": [
    {
     "name": "stderr",
     "output_type": "stream",
     "text": [
      "\n",
      "\n",
      "====== WebDriver manager ======\n",
      "Current google-chrome version is 99.0.4844\n",
      "Get LATEST chromedriver version for 99.0.4844 google-chrome\n",
      "Trying to download new driver from https://chromedriver.storage.googleapis.com/99.0.4844.51/chromedriver_win32.zip\n",
      "Driver has been saved in cache [C:\\Users\\igrang\\.wdm\\drivers\\chromedriver\\win32\\99.0.4844.51]\n"
     ]
    }
   ],
   "source": [
    "# Dependencies\n",
    "from bs4 import BeautifulSoup\n",
    "import pandas as pd\n",
    "import requests\n",
    "import os\n",
    "from splinter import Browser\n",
    "from webdriver_manager.chrome import ChromeDriverManager\n",
    "executable_path = {'executable_path': ChromeDriverManager().install()}\n",
    "browser = Browser('chrome', **executable_path, headless=False)"
   ]
  },
  {
   "cell_type": "code",
   "execution_count": null,
   "metadata": {},
   "outputs": [],
   "source": []
  },
  {
   "cell_type": "code",
   "execution_count": 19,
   "metadata": {},
   "outputs": [],
   "source": [
    "url = 'https://redplanetscience.com/'\n",
    "browser.visit(url)\n",
    "\n",
    "\n",
    "html = browser.html\n",
    "soup = BeautifulSoup(html, 'html.parser')\n",
    "\n",
    "\n",
    "\n",
    "results = soup.find_all('div', class_='content_title')\n",
    "news_title=[]\n",
    "news_p=[]\n",
    "for article in results:\n",
    "    # Use Beautiful Soup's find() method to navigate and retrieve attributes\n",
    "    news_title.append(article.text)\n",
    "\n",
    "\n",
    "results = soup.find_all('div', class_='article_teaser_body')\n",
    "news_p=[]\n",
    "for article in results:\n",
    "    # Use Beautiful Soup's find() method to navigate and retrieve attributes\n",
    "    news_p.append(article.text)\n",
    "    \n"
   ]
  },
  {
   "cell_type": "code",
   "execution_count": 20,
   "metadata": {},
   "outputs": [],
   "source": [
    "url = 'https://spaceimages-mars.com'\n",
    "browser.visit(url)\n",
    "\n",
    "\n",
    "html = browser.html\n",
    "soup = BeautifulSoup(html, 'html.parser')\n",
    "\n",
    "\n",
    "\n",
    "results = soup.find('img', class_='headerimage fade-in')[\"src\"]\n",
    "\n",
    "featured_image_url=url+'/' + results\n",
    "\n",
    "url = 'https://galaxyfacts-mars.com'\n",
    "browser.visit(url)\n",
    "\n",
    "\n",
    "html = browser.html\n",
    "soup = BeautifulSoup(html, 'html.parser')\n",
    "\n",
    "\n",
    "\n",
    "results = soup.find('table', class_='table table-striped')\n",
    "# string=\"\"\"\n",
    "# html_string = string + results + string\n",
    "\n",
    "# from IPython.display import display_html\n",
    "# display_html(html_string, raw=True)\n",
    "dfs = pd.read_html(str(results))[0]\n",
    "dfs.rename(columns={0:\"Mars Facts\", 1: \"Values\"}, inplace=True)\n",
    "html=dfs.to_html()\n",
    "with open('Mars_facts.html', 'a') as f:\n",
    "    f.write(html)\n"
   ]
  },
  {
   "cell_type": "code",
   "execution_count": 21,
   "metadata": {},
   "outputs": [
    {
     "name": "stdout",
     "output_type": "stream",
     "text": [
      "['https://marshemispheres.com/cerberus.html', 'https://marshemispheres.com/schiaparelli.html', 'https://marshemispheres.com/syrtis.html', 'https://marshemispheres.com/valles.html']\n"
     ]
    }
   ],
   "source": [
    "url = 'https://marshemispheres.com/'\n",
    "browser.visit(url)\n",
    "\n",
    "\n",
    "html = browser.html\n",
    "soup = BeautifulSoup(html, 'html.parser')\n",
    "\n",
    "\n",
    "\n",
    "results = soup.find_all('div', class_='item')\n",
    "relative_img=[]\n",
    "for article in results:\n",
    "    # Use Beautiful Soup's find() method to navigate and retrieve attributes\n",
    "    relative_img.append(url+article.find('a')['href'])\n",
    "    \n",
    "print(relative_img)\n",
    "# featured_image_url=url+'/' + results\n",
    "\n",
    "# url = 'https://galaxyfacts-mars.com'\n",
    "# browser.visit(url)\n",
    "\n",
    "\n",
    "# html = browser.html\n",
    "# soup = BeautifulSoup(html, 'html.parser')\n",
    "\n",
    "\n",
    "\n",
    "# results = soup.find('table', class_='table table-striped')\n"
   ]
  },
  {
   "cell_type": "code",
   "execution_count": 22,
   "metadata": {},
   "outputs": [
    {
     "name": "stdout",
     "output_type": "stream",
     "text": [
      "[{'title': 'Cerberus Hemisphere', 'img_url': 'https://marshemispheres.com/images/full.jpg'}, {'title': 'Schiaparelli Hemisphere', 'img_url': 'https://marshemispheres.com/images/schiaparelli_enhanced-full.jpg'}, {'title': 'Syrtis Major Hemisphere', 'img_url': 'https://marshemispheres.com/images/syrtis_major_enhanced-full.jpg'}, {'title': 'Valles Marineris Hemisphere', 'img_url': 'https://marshemispheres.com/images/valles_marineris_enhanced-full.jpg'}]\n"
     ]
    }
   ],
   "source": [
    "\n",
    "\n",
    "hemisphere_image_urls = []\n",
    "img_url=[]\n",
    "title=[]\n",
    "\n",
    "for link in relative_img:\n",
    "    browser.visit(link)\n",
    "\n",
    "\n",
    "    html = browser.html\n",
    "    soup = BeautifulSoup(html, 'html.parser')\n",
    "\n",
    "    string= (soup.find_all('li')[0])\n",
    "    local=soup.find('h2', class_='title').text.rsplit(' ', 1)[0]\n",
    "    local_url=link.rsplit('/',1)[0] + '/'+string.find(\"a\")['href']\n",
    "    title.append(local)\n",
    "    img_url.append(local_url)\n",
    "    hemisphere_image_urls.append({\"title\":local, \"img_url\":local_url})\n",
    "\n",
    "print(hemisphere_image_urls)"
   ]
  },
  {
   "cell_type": "code",
   "execution_count": 23,
   "metadata": {},
   "outputs": [],
   "source": [
    "\n",
    "browser.quit()"
   ]
  },
  {
   "cell_type": "code",
   "execution_count": null,
   "metadata": {},
   "outputs": [],
   "source": []
  }
 ],
 "metadata": {
  "interpreter": {
   "hash": "812fe2495d1fbfb8ca8990a52089c23401f4a1abd0ae160a4b29f223d6425e1d"
  },
  "kernelspec": {
   "display_name": "Python 3",
   "language": "python",
   "name": "python3"
  },
  "language_info": {
   "codemirror_mode": {
    "name": "ipython",
    "version": 3
   },
   "file_extension": ".py",
   "mimetype": "text/x-python",
   "name": "python",
   "nbconvert_exporter": "python",
   "pygments_lexer": "ipython3",
   "version": "3.9.10"
  }
 },
 "nbformat": 4,
 "nbformat_minor": 2
}

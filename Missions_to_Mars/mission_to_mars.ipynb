{
 "cells": [
  {
   "cell_type": "code",
   "execution_count": 10,
   "metadata": {},
   "outputs": [
    {
     "name": "stderr",
     "output_type": "stream",
     "text": [
      "\n",
      "\n",
      "====== WebDriver manager ======\n",
      "Current google-chrome version is 99.0.4844\n",
      "Get LATEST chromedriver version for 99.0.4844 google-chrome\n",
      "Trying to download new driver from https://chromedriver.storage.googleapis.com/99.0.4844.51/chromedriver_win32.zip\n",
      "Driver has been saved in cache [C:\\Users\\igrang\\.wdm\\drivers\\chromedriver\\win32\\99.0.4844.51]\n"
     ]
    }
   ],
   "source": [
    "# Dependencies\n",
    "from bs4 import BeautifulSoup\n",
    "import pandas as pd\n",
    "import requests\n",
    "import os\n",
    "from splinter import Browser\n",
    "from webdriver_manager.chrome import ChromeDriverManager\n",
    "executable_path = {'executable_path': ChromeDriverManager().install()}\n",
    "browser = Browser('chrome', **executable_path, headless=False)"
   ]
  },
  {
   "cell_type": "code",
   "execution_count": null,
   "metadata": {},
   "outputs": [],
   "source": []
  },
  {
   "cell_type": "code",
   "execution_count": 11,
   "metadata": {},
   "outputs": [
    {
     "name": "stdout",
     "output_type": "stream",
     "text": [
      "[{'news_title': \"NASA's Mars Perseverance Rover Gets Its Sample Handling System\", 'news_p': 'The system will be collecting and storing Martian rock and soil. Its installation marks another milestone in the march toward the July launch period.'}, {'news_title': \"5 Hidden Gems Are Riding Aboard NASA's Perseverance Rover\", 'news_p': \"The symbols, mottos, and small objects added to the agency's newest Mars rover serve a variety of purposes, from functional to decorative.\"}, {'news_title': \"NASA Readies Perseverance Mars Rover's Earthly Twin \", 'news_p': \"Did you know NASA's next Mars rover has a nearly identical sibling on Earth for testing? Even better, it's about to roll for the first time through a replica Martian landscape.\"}, {'news_title': \"Follow NASA's Perseverance Rover in Real Time on Its Way to Mars\", 'news_p': \"A crisply rendered web application can show you where the agency's Mars 2020 mission is right now as it makes its way to the Red Planet for a Feb. 18, 2021, landing.\"}, {'news_title': \"Mars Helicopter Attached to NASA's Perseverance Rover\", 'news_p': \"The team also fueled the rover's sky crane to get ready for this summer's history-making launch.\"}, {'news_title': \"Screening Soon: 'The Pathfinders' Trains Lens on Mars\", 'news_p': 'With the Mars 2020 mission ramping up, the documentary — the first of four about past JPL missions to the Red Planet to be shown at Caltech — tells a gripping backstory.'}, {'news_title': 'MOXIE Could Help Future Rockets Launch Off Mars', 'news_p': \"NASA's Perseverance rover carries a device to convert Martian air into oxygen that, if produced on a larger scale, could be used not just for breathing, but also for fuel.\"}, {'news_title': 'NASA Moves Forward With Campaign to Return Mars Samples to Earth', 'news_p': 'During this next phase, the program will mature critical technologies and make critical design decisions as well as assess industry partnerships.'}, {'news_title': \"A Year of Surprising Science From NASA's InSight Mars Mission\", 'news_p': \"A batch of new papers summarizes the lander's findings above and below the surface of the Red Planet.\"}, {'news_title': \"While Stargazing on Mars, NASA's Curiosity Rover Spots Earth and Venus\", 'news_p': \"This new portrait of the Red Planet's neighbors was taken during a time when there's more dust in the air on Mars.\"}, {'news_title': \"HiRISE Views NASA's InSight and Curiosity on Mars\", 'news_p': 'New images taken from space offer the clearest orbital glimpse yet of InSight as well as a view of Curiosity rolling along.'}, {'news_title': \"NASA's Perseverance Mars Rover Gets Its Wheels and Air Brakes\", 'news_p': 'After the rover was shipped from JPL to Kennedy Space Center, the team is getting closer to finalizing the spacecraft for launch later this summer.'}, {'news_title': \"NASA Engineers Checking InSight's Weather Sensors\", 'news_p': 'An electronics issue is suspected to be preventing the sensors from sharing their data about Mars weather with the spacecraft.'}, {'news_title': \"Three New Views of Mars' Moon Phobos\", 'news_p': \"Taken with the infrared camera aboard NASA's Odyssey orbiter, they reveal temperature variations on the small moon as it drifts into and out of Mars’ shadow.\"}, {'news_title': '7 Things to Know About the Mars 2020 Perseverance Rover Mission', 'news_p': \"NASA's next rover to the Red Planet is slated to launch no earlier than July 30. These highlights will get you up to speed on the ambitious mission.\"}]\n"
     ]
    }
   ],
   "source": [
    "\n",
    "\n",
    "url = 'https://redplanetscience.com/'\n",
    "browser.visit(url)\n",
    "\n",
    "\n",
    "html = browser.html\n",
    "soup = BeautifulSoup(html, 'html.parser')\n",
    "\n",
    "#Find all the titles\n",
    "results = soup.find_all('div', class_='content_title')\n",
    "news=[]\n",
    "i=0\n",
    "\n",
    "#Find all the description of the titles\n",
    "\n",
    "p=soup.find_all('div', class_='article_teaser_body')\n",
    "\n",
    "#Make the title and para as one dictionary object. Here we assume that there is 1:1 match between title and para\n",
    "for article in results:\n",
    "    # Use Beautiful Soup's find() method to navigate and retrieve attributes\n",
    "    title= article.text\n",
    "    news.append({\"news_title\":title, \"news_p\":p[i].text})\n",
    "    i=i+1\n",
    "\n",
    "print(news)"
   ]
  },
  {
   "cell_type": "code",
   "execution_count": 15,
   "metadata": {},
   "outputs": [
    {
     "name": "stdout",
     "output_type": "stream",
     "text": [
      "             Mars Facts                         Values\n",
      "0  Equatorial Diameter:                       6,792 km\n",
      "1       Polar Diameter:                       6,752 km\n",
      "2                 Mass:  6.39 × 10^23 kg (0.11 Earths)\n",
      "3                Moons:          2 ( Phobos & Deimos )\n",
      "4       Orbit Distance:       227,943,824 km (1.38 AU)\n",
      "5         Orbit Period:           687 days (1.9 years)\n",
      "6  Surface Temperature:                   -87 to -5 °C\n",
      "7         First Record:              2nd millennium BC\n",
      "8          Recorded By:           Egyptian astronomers\n"
     ]
    }
   ],
   "source": [
    "url = 'https://spaceimages-mars.com'\n",
    "browser.visit(url)\n",
    "\n",
    "\n",
    "html = browser.html\n",
    "soup = BeautifulSoup(html, 'html.parser')\n",
    "\n",
    "\n",
    "#fine the \n",
    "results = soup.find('img', class_='headerimage')[\"src\"]\n",
    "\n",
    "featured_image_title = soup.find('h1', class_='media_feature_title').text\n",
    "featured_image_url=url+'/' + results\n",
    "\n",
    "\n",
    "\n",
    "url = 'https://galaxyfacts-mars.com'\n",
    "browser.visit(url)\n",
    "\n",
    "\n",
    "html = browser.html\n",
    "soup = BeautifulSoup(html, 'html.parser')\n",
    "\n",
    "\n",
    "\n",
    "results = soup.find('table', class_='table table-striped')\n",
    "# string=\"\"\"\n",
    "# html_string = string + results + string\n",
    "\n",
    "# from IPython.display import display_html\n",
    "# display_html(html_string, raw=True)\n",
    "dfs = pd.read_html(str(results))[0]\n",
    "dfs.rename(columns={0:\"Mars Facts\", 1: \"Values\"}, inplace=True)\n",
    "Mars_facts_html=dfs.to_html()\n",
    "table_html='Mars_facts.html'\n",
    "print(dfs)\n",
    "with open(table_html, 'a') as f:\n",
    "    f.write(Mars_facts_html)\n"
   ]
  },
  {
   "cell_type": "code",
   "execution_count": null,
   "metadata": {},
   "outputs": [
    {
     "name": "stdout",
     "output_type": "stream",
     "text": [
      "['https://marshemispheres.com/cerberus.html', 'https://marshemispheres.com/schiaparelli.html', 'https://marshemispheres.com/syrtis.html', 'https://marshemispheres.com/valles.html']\n"
     ]
    }
   ],
   "source": [
    "url = 'https://marshemispheres.com/'\n",
    "browser.visit(url)\n",
    "\n",
    "\n",
    "html = browser.html\n",
    "soup = BeautifulSoup(html, 'html.parser')\n",
    "\n",
    "\n",
    "\n",
    "results = soup.find_all('div', class_='item')\n",
    "relative_img=[]\n",
    "for article in results:\n",
    "    # Use Beautiful Soup's find() method to navigate and retrieve attributes\n",
    "    relative_img.append(url+article.find('a')['href'])\n",
    "    \n",
    "print(relative_img)\n",
    "# featured_image_url=url+'/' + results\n",
    "\n",
    "# url = 'https://galaxyfacts-mars.com'\n",
    "# browser.visit(url)\n",
    "\n",
    "\n",
    "# html = browser.html\n",
    "# soup = BeautifulSoup(html, 'html.parser')\n",
    "\n",
    "\n",
    "\n",
    "# results = soup.find('table', class_='table table-striped')\n"
   ]
  },
  {
   "cell_type": "code",
   "execution_count": 16,
   "metadata": {},
   "outputs": [
    {
     "name": "stdout",
     "output_type": "stream",
     "text": [
      "https://marshemispheres.com/images/full.jpg\n",
      "<h1 class=\"media_feature_title\">Dusty Space Cloud</h1>\n"
     ]
    }
   ],
   "source": [
    "\n",
    "\n",
    "hemisphere_image_urls = []\n",
    "img_url=[]\n",
    "title=[]\n",
    "\n",
    "for link in relative_img:\n",
    "    browser.visit(link)\n",
    "\n",
    "\n",
    "    html = browser.html\n",
    "    soup = BeautifulSoup(html, 'html.parser')\n",
    "\n",
    "    string= (soup.find_all('li')[0])\n",
    "    local=soup.find('h2', class_='title').text.rsplit(' ', 1)[0]\n",
    "    local_url=link.rsplit('/',1)[0] + '/'+string.find(\"a\")['href']\n",
    "    title.append(local)\n",
    "    img_url.append(local_url)\n",
    "    hemisphere_image_urls.append({\"title\":local, \"img_url\":local_url})\n",
    "\n",
    "dictionary={}\n",
    "    \n",
    "dictionary.update({\"news\":news})\n",
    "dictionary.update({\"featured_image_title\":featured_image_title})\n",
    "dictionary.update({\"featured_image_url\":featured_image_url})\n",
    "dictionary.update({\"table_html_file\":table_html})\n",
    "dictionary.update({\"table_html\":Mars_facts_html.strip()})\n",
    "\n",
    "dictionary.update({\"hemisphere_image_urls\":hemisphere_image_urls})\n",
    "print(dictionary.get(\"hemisphere_image_urls\")[0][\"img_url\"])\n",
    "print(dictionary.get(\"featured_image_title\"))\n",
    "\n",
    "#print(dictionary)"
   ]
  },
  {
   "cell_type": "code",
   "execution_count": 23,
   "metadata": {},
   "outputs": [],
   "source": [
    "\n",
    "browser.quit()"
   ]
  },
  {
   "cell_type": "code",
   "execution_count": null,
   "metadata": {},
   "outputs": [],
   "source": []
  }
 ],
 "metadata": {
  "interpreter": {
   "hash": "812fe2495d1fbfb8ca8990a52089c23401f4a1abd0ae160a4b29f223d6425e1d"
  },
  "kernelspec": {
   "display_name": "Python 3",
   "language": "python",
   "name": "python3"
  },
  "language_info": {
   "codemirror_mode": {
    "name": "ipython",
    "version": 3
   },
   "file_extension": ".py",
   "mimetype": "text/x-python",
   "name": "python",
   "nbconvert_exporter": "python",
   "pygments_lexer": "ipython3",
   "version": "3.9.10"
  }
 },
 "nbformat": 4,
 "nbformat_minor": 2
}
